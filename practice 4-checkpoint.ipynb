{
 "cells": [
  {
   "cell_type": "code",
   "execution_count": 22,
   "id": "c1c00c73-85a1-4d3d-b913-6bed3c2f9351",
   "metadata": {},
   "outputs": [
    {
     "name": "stdout",
     "output_type": "stream",
     "text": [
      "hello\n"
     ]
    }
   ],
   "source": [
    "lst=['h','e','l','l''o']\n",
    "words=''.join(lst)\n",
    "print(words)"
   ]
  },
  {
   "cell_type": "code",
   "execution_count": 2,
   "id": "21a72174-7866-4b55-a065-8778f4af8050",
   "metadata": {},
   "outputs": [
    {
     "name": "stdin",
     "output_type": "stream",
     "text": [
      "enter height: 20\n",
      "enter width: 10\n"
     ]
    },
    {
     "data": {
      "text/plain": [
       "100"
      ]
     },
     "execution_count": 2,
     "metadata": {},
     "output_type": "execute_result"
    }
   ],
   "source": [
    "h=int(input('enter height:'))\n",
    "w=int(input('enter width:'))\n",
    "area= 1/2*h*w\n",
    "int(area)"
   ]
  },
  {
   "cell_type": "code",
   "execution_count": 14,
   "id": "0067846f-b836-4717-8ff0-06f49a9b056a",
   "metadata": {},
   "outputs": [
    {
     "name": "stdin",
     "output_type": "stream",
     "text": [
      "enter angle: 99\n",
      "enter angle: 90\n",
      "enter angle: 46\n"
     ]
    },
    {
     "name": "stdout",
     "output_type": "stream",
     "text": [
      "right triangle\n"
     ]
    }
   ],
   "source": [
    "a1=int(input('enter angle:'))\n",
    "a2=int(input('enter angle:'))\n",
    "a3=int(input('enter angle:'))\n",
    "\n",
    "if a1<90 and a2 <90 and a3 < 90:\n",
    "    print('Acute triangle')\n",
    "elif a1==90 or a2==90 or a3 == 90:\n",
    "    print('right triangle')\n",
    "elif a1>90 or a2>90 or a3 >90:\n",
    "    print('obtuse triangle')"
   ]
  },
  {
   "cell_type": "code",
   "execution_count": 16,
   "id": "a0a20005-ae8c-4c64-a2a7-c1b96f9c3cd0",
   "metadata": {},
   "outputs": [
    {
     "name": "stdout",
     "output_type": "stream",
     "text": [
      "15\n",
      "-5\n",
      "50\n",
      "0.5\n"
     ]
    }
   ],
   "source": [
    "class calculator:\n",
    "    def __init__(self,a,b):\n",
    "        self.a=a\n",
    "        self.b=b\n",
    "    def add(self):\n",
    "        sum= self.a+self.b\n",
    "        return sum\n",
    "    def sub(self):\n",
    "        sub= self.a-self.b\n",
    "        return sub\n",
    "    def mul(self):\n",
    "        mul= self.a *self.b\n",
    "        return mul\n",
    "    def div(self):\n",
    "        div= self.a/self.b\n",
    "        return div\n",
    "\n",
    "c= calculator(5,10)\n",
    "print(c.add())\n",
    "print(c.sub())\n",
    "print(c.mul())\n",
    "print(c.div())"
   ]
  },
  {
   "cell_type": "code",
   "execution_count": 18,
   "id": "9287d3eb-e9e9-4118-9b56-8a9a498c78cd",
   "metadata": {},
   "outputs": [
    {
     "name": "stdout",
     "output_type": "stream",
     "text": [
      " Title:salaaar \n",
      " Hero : prabhas \n",
      " heroine : shruti \n",
      " director : neel: \n",
      " Rating : 9.2\n"
     ]
    }
   ],
   "source": [
    "# create a class to represent a movie with attribites like title .director and rating\n",
    "class movie:\n",
    "    def __init__(self,title,hero, heroine, director, rating):\n",
    "        self.title=title\n",
    "        self.hero=hero\n",
    "        self.heroine=heroine\n",
    "        self.director=director\n",
    "        self.rating= rating\n",
    "    def represent(self):\n",
    "        print(f' Title:{self.title} \\n Hero : {self.hero} \\n heroine : { self.heroine} \\n director : {self.director}: \\n Rating : { self.rating}')\n",
    "\n",
    "info=movie('salaaar','prabhas','shruti', 'neel', 9.2)\n",
    "info.represent()"
   ]
  },
  {
   "cell_type": "code",
   "execution_count": 20,
   "id": "397933b4-da72-4c6a-ae7f-014573f82852",
   "metadata": {},
   "outputs": [
    {
     "name": "stdout",
     "output_type": "stream",
     "text": [
      " The brand of the car is kia\n",
      " The model is celtos\n",
      "\n",
      " The bike brand is bullet \n",
      " The model is hunter \n",
      " It is 350cc\n"
     ]
    }
   ],
   "source": [
    "# implement a class hierarchy to repreesent different types of vehicles (car ,bike) with their own attributes and methods\n",
    "class vehicles:\n",
    "    def __init__(self,name,model):\n",
    "        self.name=name\n",
    "        self.model=model\n",
    "class cars(vehicles):\n",
    "    def rep(self):\n",
    "        print(f' The brand of the car is {self.name}\\n The model is {self.model}\\n')\n",
    "\n",
    "class bikes(vehicles):\n",
    "    def __init__(self,name,model,ev):\n",
    "        self.name=name\n",
    "        self.model=model\n",
    "        self.ev=ev\n",
    "    def reps(self):\n",
    "        return f' The bike brand is {self.name} \\n The model is {self.model} \\n It is {self.ev}'\n",
    "\n",
    "car=cars('kia','celtos')\n",
    "bike= bikes('bullet','hunter','350cc')\n",
    "\n",
    "car.rep()\n",
    "print(bike.reps())"
   ]
  },
  {
   "cell_type": "code",
   "execution_count": null,
   "id": "6f6a4516-91f8-4f49-9741-8cd63b399230",
   "metadata": {},
   "outputs": [],
   "source": []
  }
 ],
 "metadata": {
  "kernelspec": {
   "display_name": "Python 3 (ipykernel)",
   "language": "python",
   "name": "python3"
  },
  "language_info": {
   "codemirror_mode": {
    "name": "ipython",
    "version": 3
   },
   "file_extension": ".py",
   "mimetype": "text/x-python",
   "name": "python",
   "nbconvert_exporter": "python",
   "pygments_lexer": "ipython3",
   "version": "3.12.4"
  }
 },
 "nbformat": 4,
 "nbformat_minor": 5
}
