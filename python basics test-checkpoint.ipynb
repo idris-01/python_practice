{
 "cells": [
  {
   "cell_type": "markdown",
   "id": "8113fd99-a9ca-418a-b671-77f09815ad71",
   "metadata": {},
   "source": [
    "1. what is python and why is it popular\n",
    "- python is popular because it is high level programming lannguage which is very simple to learn\n",
    "- it is widly used all around as it the most used language mainly for web develepment, game designing etc\n",
    "- python is popular asit is very simple and takes fewer lines for a code compared to other languages"
   ]
  },
  {
   "cell_type": "markdown",
   "id": "1b1d651a-cccb-4cce-9df9-ea2d7e7fc821",
   "metadata": {},
   "source": [
    "2. what is an IDE and name a few popular pythons IDE'S\n",
    "- its full form is intergrated development environment\n",
    "- this include various programming application or software applications which helps for programmers to code.\n",
    "popular python ide's are:-\n",
    "- google coolab\n",
    "- juypter\n",
    "- spyder"
   ]
  },
  {
   "cell_type": "markdown",
   "id": "792f7214-ccd1-436c-8101-ecd1c6cac56a",
   "metadata": {},
   "source": [
    "3. what are rules for naming a variables.\n",
    "- varibles must start with alphanumeric or underscore\n",
    "- they can be alpha numberic\n",
    "- they cannot start with digits, keyword or symbols\n",
    "- they are case sensitive"
   ]
  },
  {
   "cell_type": "markdown",
   "id": "f755ed54-ecac-464a-b0c1-6f1ddecc3c09",
   "metadata": {},
   "source": [
    "4. how do u assign multiple values to multiple variables insingle line"
   ]
  },
  {
   "cell_type": "code",
   "execution_count": 8,
   "id": "71cf62e6-1196-483a-a3fa-36a62f05221f",
   "metadata": {},
   "outputs": [
    {
     "name": "stdout",
     "output_type": "stream",
     "text": [
      "2\n",
      "4\n",
      "5\n"
     ]
    }
   ],
   "source": [
    "x,y,z= 2,4,5\n",
    "print (x)\n",
    "print(y)\n",
    "print(z)"
   ]
  },
  {
   "cell_type": "markdown",
   "id": "4819296d-7a10-4d0c-9c49-11179ab892f4",
   "metadata": {},
   "source": [
    "5. can  use pythonkeyword as varibles.\n",
    "- no python cannot use keyword as variables as they are used to perform operations and we cant comsider as vaiable we will get an error if we use them ina variable."
   ]
  },
  {
   "cell_type": "markdown",
   "id": "55b660c1-48d3-40e4-8ab7-36054a958dff",
   "metadata": {},
   "source": [
    "6. why are comments important in  programming\n",
    "- comments help us to understand the coder better  and it also helps us to know how the code works.\n",
    "- its is essential part of programming language.\n",
    "- It also helps in debugging by knowing the problem better."
   ]
  },
  {
   "cell_type": "markdown",
   "id": "5c469e2e-4daa-4239-94d2-be795ccce9db",
   "metadata": {},
   "source": [
    "7. what are the basic data tyoes in python.\n",
    "-They are  4 basic types in python they are\n",
    " int- it represnts whole numbers, both positive negative and zero\n",
    " float- it is decimal number of=r fractional number\n",
    "complex- it consists of imaginary and real part in it'\n",
    "boolean- it returms the value either in true or false,"
   ]
  },
  {
   "cell_type": "markdown",
   "id": "f48ad43a-5f80-4470-8936-16b5133898d9",
   "metadata": {},
   "source": [
    "8. how do u convert a string to an interger in pythoon\n"
   ]
  },
  {
   "cell_type": "code",
   "execution_count": 4,
   "id": "98472745-f229-4cb7-9894-a6ba1c8ef4bd",
   "metadata": {},
   "outputs": [
    {
     "name": "stdout",
     "output_type": "stream",
     "text": [
      "234\n",
      "<class 'int'>\n"
     ]
    }
   ],
   "source": [
    "a= \"234\"\n",
    "b=int(a)\n",
    "print(b)\n",
    "print(type(b))"
   ]
  },
  {
   "cell_type": "markdown",
   "id": "c73a0bac-ac1a-4436-9cd7-f508a5bff662",
   "metadata": {},
   "source": [
    "9. difference between int and float\n",
    "- int are the non fractional nummbers and float are fractional numbers\n",
    "- int are whole number they can bbe positive negative or zero where as float are in decimal form they can also be positive or negative\n",
    "- example of int= 34\n",
    "- example of float= 30.13"
   ]
  },
  {
   "cell_type": "markdown",
   "id": "fb41bdcc-31a4-4573-b4db-bdde122ea933",
   "metadata": {},
   "source": [
    "10. how do u check the data type of a variable\n",
    "- we can check the type of varibale by using type function."
   ]
  },
  {
   "cell_type": "code",
   "execution_count": 6,
   "id": "49272929-34a2-4a23-af8e-a4354814da9a",
   "metadata": {},
   "outputs": [
    {
     "name": "stdout",
     "output_type": "stream",
     "text": [
      "<class 'float'>\n"
     ]
    }
   ],
   "source": [
    "# to check a data type of a variable we need to use type fuction for example\n",
    "x= 45.09\n",
    "print(type(x))"
   ]
  },
  {
   "cell_type": "markdown",
   "id": "76d1002c-88ab-4ebe-9a9c-9db46524be89",
   "metadata": {},
   "source": [
    "11. how do u add an elemnt in nthe list\n"
   ]
  },
  {
   "cell_type": "code",
   "execution_count": 20,
   "id": "45315367-aec3-4199-9b9e-a362cf991366",
   "metadata": {},
   "outputs": [
    {
     "name": "stdout",
     "output_type": "stream",
     "text": [
      "[23, 34, 89, 3]\n"
     ]
    }
   ],
   "source": [
    "a= [23,34,89]\n",
    "a.append(3)\n",
    "print(a)"
   ]
  },
  {
   "cell_type": "markdown",
   "id": "ab070d9e-7cb5-4e77-8a94-0cb91eb0e5a3",
   "metadata": {},
   "source": [
    "12. how do u create tuuple with one elemnt"
   ]
  },
  {
   "cell_type": "code",
   "execution_count": 28,
   "id": "a602e62a-f714-4172-bf2d-f756702d9359",
   "metadata": {},
   "outputs": [
    {
     "name": "stdout",
     "output_type": "stream",
     "text": [
      "(90,)\n",
      "<class 'tuple'>\n"
     ]
    }
   ],
   "source": [
    "one_elemnt=(90,)\n",
    "print(one_elemnt)\n",
    "print(type(one_elemnt))"
   ]
  },
  {
   "cell_type": "markdown",
   "id": "9cbb678e-f3ed-41da-99be-2661adf6e7e3",
   "metadata": {},
   "source": [
    "13. how do u accsess a value using akey in dictionaries"
   ]
  },
  {
   "cell_type": "code",
   "execution_count": 34,
   "id": "c755aae8-21ee-45e5-be0d-46fed9c901d7",
   "metadata": {},
   "outputs": [
    {
     "data": {
      "text/plain": [
       "'ram'"
      ]
     },
     "execution_count": 34,
     "metadata": {},
     "output_type": "execute_result"
    }
   ],
   "source": [
    "bio={'name': 'ram', ' job': 'python developer', 'skill level': 'moderate', 'company': ' tcs', 'duration': ' 5 years'}\n",
    "bio['name']\n"
   ]
  },
  {
   "cell_type": "markdown",
   "id": "f0f3117a-e791-4f9f-9b05-1369652bdf10",
   "metadata": {},
   "source": [
    "14. how do accsess elemnts inthe list\n",
    "- by assigning the index method we can accsess"
   ]
  },
  {
   "cell_type": "code",
   "execution_count": 32,
   "id": "f0881b2c-cf4a-4c0d-a096-bf791d0a58f7",
   "metadata": {},
   "outputs": [
    {
     "data": {
      "text/plain": [
       "5"
      ]
     },
     "execution_count": 32,
     "metadata": {},
     "output_type": "execute_result"
    }
   ],
   "source": [
    "a= [2,4,5,7]\n",
    "a[2]"
   ]
  },
  {
   "cell_type": "markdown",
   "id": "98c13ee8-8be2-4c8c-8f2a-c51ff8907fe8",
   "metadata": {},
   "source": [
    "15. how do u access a char in a string"
   ]
  },
  {
   "cell_type": "code",
   "execution_count": 38,
   "id": "2feb2fa9-d44c-4592-88f7-c33ddb0549a3",
   "metadata": {},
   "outputs": [
    {
     "data": {
      "text/plain": [
       "'i'"
      ]
     },
     "execution_count": 38,
     "metadata": {},
     "output_type": "execute_result"
    }
   ],
   "source": [
    "str=\"idris\"\n",
    "str[3]"
   ]
  },
  {
   "cell_type": "markdown",
   "id": "e28b621a-57b0-4fa7-8e45-d83aa6d63eaf",
   "metadata": {},
   "source": [
    "16. format strings in python"
   ]
  },
  {
   "cell_type": "code",
   "execution_count": 40,
   "id": "0e27d0fc-cfdf-44d3-8ada-4abfff290942",
   "metadata": {},
   "outputs": [
    {
     "name": "stdout",
     "output_type": "stream",
     "text": [
      "His  number is 2 going to HYD.\n"
     ]
    }
   ],
   "source": [
    "number= 2\n",
    "place=\"HYD\"\n",
    "format_string=f\"His  number is {number} going to {place}.\" \n",
    "print(format_string)"
   ]
  },
  {
   "cell_type": "markdown",
   "id": "579bcaad-99a8-4a36-9f72-a213d0eea802",
   "metadata": {},
   "source": [
    "17. what is tuple and how it is diff from list\n",
    "- tuple is a list in an ordered collection of items,tThey are immutable, as once they are created they cannot be changed.\r\n",
    "They can also contain duplicate elemen\n",
    "-  as list are unorered and can be mutable and if they are created they can be changedts."
   ]
  },
  {
   "cell_type": "markdown",
   "id": "010b3b7d-96dc-4525-a67b-1cd9899fca16",
   "metadata": {},
   "source": [
    "18. how to u concantacte two tuples\n"
   ]
  },
  {
   "cell_type": "code",
   "execution_count": 42,
   "id": "a78d9364-b6c1-46e8-ad77-0426560f681a",
   "metadata": {},
   "outputs": [
    {
     "name": "stdout",
     "output_type": "stream",
     "text": [
      "(1, 2, 3, 'apple', 'banana', 'cherry')\n"
     ]
    }
   ],
   "source": [
    "num = (1, 2, 3)\n",
    "fruits = (\"apple\", \"banana\", \"cherry\")\n",
    "c= num+fruits\n",
    "print(c)"
   ]
  },
  {
   "cell_type": "markdown",
   "id": "ed9bf200-599a-44b1-8536-de7068e954a1",
   "metadata": {},
   "source": [
    "19. how do u acsess values using dictionary."
   ]
  },
  {
   "cell_type": "markdown",
   "id": "6c49c72e-0b31-482c-9ac2-bc0bbefbc832",
   "metadata": {},
   "source": [
    "20.  how do u add a key pair value to dictionaries"
   ]
  },
  {
   "cell_type": "markdown",
   "id": "fece3cf6-a3c1-44c6-961b-e8030efd07d0",
   "metadata": {},
   "source": [
    "21. how du remove key value pair\n",
    "- we can do it by using pop method"
   ]
  },
  {
   "cell_type": "code",
   "execution_count": 44,
   "id": "3380028a-5b23-4efd-b007-58e3331823a3",
   "metadata": {},
   "outputs": [
    {
     "name": "stdout",
     "output_type": "stream",
     "text": [
      "21\n",
      "{'name': 'idris', 'course': 'python'}\n"
     ]
    }
   ],
   "source": [
    "student = {\"name\": \"idris\" , \"age\": 21, \"course\": \"python\"}\n",
    "x=student.pop(\"age\")\n",
    "print(x)\n",
    "print(student)"
   ]
  },
  {
   "cell_type": "markdown",
   "id": "7988ae53-6feb-43e9-bd89-c70b746df8f8",
   "metadata": {},
   "source": [
    "22. how do u add an element inthe set\n",
    "- we can use add or update for adding a element in the set"
   ]
  },
  {
   "cell_type": "code",
   "execution_count": 46,
   "id": "c477ba8c-ccc7-4736-987c-31a2f5e1631b",
   "metadata": {},
   "outputs": [
    {
     "name": "stdout",
     "output_type": "stream",
     "text": [
      "{1, 2, 3, 4, 5, 6, 7, 8, 3.67, 11, 45.87, 23.09}\n"
     ]
    }
   ],
   "source": [
    "num= {1,2,3,4,5,6,7,8}\n",
    "int={23.09,11,45.87,3.67}\n",
    "num.update(int)\n",
    "print(num)"
   ]
  },
  {
   "cell_type": "markdown",
   "id": "068e4a67-a703-4ac7-b163-09ffa61e5650",
   "metadata": {},
   "source": [
    "23. how do u remove an elemnt from the set\n",
    "- we can remove an element by using discard or remove "
   ]
  },
  {
   "cell_type": "code",
   "execution_count": 48,
   "id": "d1ae6aee-be4d-41c5-a06c-1e24678558d9",
   "metadata": {},
   "outputs": [
    {
     "name": "stdout",
     "output_type": "stream",
     "text": [
      "{'roleplay', 'music', 'writing', 'acting', 'dance'}\n"
     ]
    }
   ],
   "source": [
    "x={\"music\", \"dance\",\"art\",\"roleplay\",\"writing\",\"acting\"}\n",
    "x.remove(\"art\")\n",
    "print(x)"
   ]
  },
  {
   "cell_type": "markdown",
   "id": "bd92081b-d08e-4f29-a074-52fe3da13843",
   "metadata": {},
   "source": [
    "24. what are common set operations in python\n",
    "- union\n",
    "- intersection\n",
    "- difference\n",
    "- set_symmetric_difference"
   ]
  },
  {
   "cell_type": "markdown",
   "id": "5fa03d6c-21b3-40b0-b180-a210c2fd5c26",
   "metadata": {},
   "source": [
    "25. write a python program to find the index of an elemnet in a tuple\n"
   ]
  },
  {
   "cell_type": "code",
   "execution_count": 51,
   "id": "de37ccf0-0c69-497e-acf7-38f6b4701e11",
   "metadata": {},
   "outputs": [
    {
     "data": {
      "text/plain": [
       "5"
      ]
     },
     "execution_count": 51,
     "metadata": {},
     "output_type": "execute_result"
    }
   ],
   "source": [
    "a=(2,5,7,9,54,12)\n",
    "a.index(12)"
   ]
  },
  {
   "cell_type": "code",
   "execution_count": null,
   "id": "1d11b2ee-6ec9-4e0a-8b6d-441219ba0172",
   "metadata": {},
   "outputs": [],
   "source": []
  }
 ],
 "metadata": {
  "kernelspec": {
   "display_name": "Python 3 (ipykernel)",
   "language": "python",
   "name": "python3"
  },
  "language_info": {
   "codemirror_mode": {
    "name": "ipython",
    "version": 3
   },
   "file_extension": ".py",
   "mimetype": "text/x-python",
   "name": "python",
   "nbconvert_exporter": "python",
   "pygments_lexer": "ipython3",
   "version": "3.12.4"
  }
 },
 "nbformat": 4,
 "nbformat_minor": 5
}
