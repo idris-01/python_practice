{
 "cells": [
  {
   "cell_type": "markdown",
   "id": "11741abf-276b-4932-b16d-7c80e7c3a831",
   "metadata": {},
   "source": [
    "# 1.write a rules to create variables\n",
    "- varibales are case sensitive\n",
    "- They can be alphanumberic but cannot start with numbers\n",
    "- they cannot start with keywords\n",
    "- they cannot start with spaces and symbols.\n",
    "- they must start with underscore or alphabets."
   ]
  },
  {
   "cell_type": "markdown",
   "id": "d23817e4-deb4-4e93-b066-af1d2c737b9b",
   "metadata": {},
   "source": [
    "# 2.what is type function\n",
    "-type function helps in defining the class of the data"
   ]
  },
  {
   "cell_type": "code",
   "execution_count": 10,
   "id": "d9da3afd-91ea-46ad-9e12-1ea9dad2235e",
   "metadata": {},
   "outputs": [
    {
     "name": "stdout",
     "output_type": "stream",
     "text": [
      "<class 'float'>\n"
     ]
    }
   ],
   "source": [
    "\n",
    "n= 4.0\n",
    "print(type(n))"
   ]
  },
  {
   "cell_type": "markdown",
   "id": "b600b7d3-9c28-4749-b27f-ed195f91b664",
   "metadata": {},
   "source": [
    "# 3.what is th diff between = and ==\n",
    "- = it is used for assigning the variables\n",
    "- == is used to compare 2 variables"
   ]
  },
  {
   "cell_type": "markdown",
   "id": "a939da39-b39e-4eac-a699-a3f06ab12bc1",
   "metadata": {},
   "source": [
    "# 4.diff between mutable and immutable\n",
    "- mutable means we can modify the data.\n",
    "- immutable means we cannot modify the data."
   ]
  },
  {
   "cell_type": "markdown",
   "id": "a436075e-4a35-498c-a510-3eeb71320148",
   "metadata": {},
   "source": [
    "# 5. write a py code to print first ten natural numbers\n"
   ]
  },
  {
   "cell_type": "code",
   "execution_count": 21,
   "id": "11c3beca-7d4c-4ca5-8e09-21b98daa70b1",
   "metadata": {},
   "outputs": [
    {
     "name": "stdout",
     "output_type": "stream",
     "text": [
      "1\n",
      "2\n",
      "3\n",
      "4\n",
      "5\n",
      "6\n",
      "7\n",
      "8\n",
      "9\n",
      "10\n"
     ]
    }
   ],
   "source": [
    "for i in range(1,11):\n",
    "    print(i)"
   ]
  },
  {
   "cell_type": "code",
   "execution_count": 9,
   "id": "9d5f2956-739c-424b-a6fe-9c4b6fb7b590",
   "metadata": {},
   "outputs": [
    {
     "name": "stdout",
     "output_type": "stream",
     "text": [
      "1\n",
      "2\n",
      "3\n",
      "4\n",
      "5\n",
      "6\n",
      "7\n",
      "8\n",
      "9\n",
      "10\n"
     ]
    }
   ],
   "source": [
    "i= 1\n",
    "while i<=10:\n",
    "    print(i)\n",
    "    i+=1"
   ]
  },
  {
   "cell_type": "code",
   "execution_count": 75,
   "id": "ea85b9a9-4a0e-4bd6-8fe4-cd2730e113ef",
   "metadata": {},
   "outputs": [
    {
     "name": "stdout",
     "output_type": "stream",
     "text": [
      "55\n"
     ]
    }
   ],
   "source": [
    "#6 write a python programme sum of first ten natural numbers.\n",
    "x=[1,2,3,4,5,6,7,8,9,10]\n",
    "sum=0\n",
    "for i in x:\n",
    "   sum+=i\n",
    "print(sum)\n"
   ]
  },
  {
   "cell_type": "code",
   "execution_count": 21,
   "id": "52c84e11-fde9-4d95-a149-d6fac8921e21",
   "metadata": {},
   "outputs": [
    {
     "name": "stdin",
     "output_type": "stream",
     "text": [
      "Enter a number:  5\n"
     ]
    },
    {
     "name": "stdout",
     "output_type": "stream",
     "text": [
      "5 is prime.\n"
     ]
    }
   ],
   "source": [
    "#7 write a python programm to identify gven num is prime or not\n",
    "\n",
    "num = int(input(\"Enter a number: \"))\n",
    "for i in range(2, num):\n",
    "    if num % i == 0:\n",
    "        print(f'{num} is not prime ')\n",
    "        break\n",
    "else:\n",
    "          print(f\"{num} is prime.\")\n"
   ]
  },
  {
   "cell_type": "code",
   "execution_count": 130,
   "id": "7a8d4f47-15b2-4bad-85b7-41db51df3eba",
   "metadata": {},
   "outputs": [
    {
     "name": "stdin",
     "output_type": "stream",
     "text": [
      "enter a value: 4\n"
     ]
    },
    {
     "name": "stdout",
     "output_type": "stream",
     "text": [
      "1 1 2 3 "
     ]
    }
   ],
   "source": [
    "#8 write a py programm to identify the fibonnaci series\n",
    "fib=int(input(\"enter a value:\"))\n",
    "a,b=0,1\n",
    "\n",
    "for i in range(fib):\n",
    "        a,b=b,a+b\n",
    "        print(a, end=' ')\n",
    "    "
   ]
  },
  {
   "cell_type": "code",
   "execution_count": 1,
   "id": "b0343a6b-da1d-4530-a748-23a0f7f12aab",
   "metadata": {},
   "outputs": [
    {
     "name": "stdin",
     "output_type": "stream",
     "text": [
      "enter the number: 5\n"
     ]
    },
    {
     "name": "stdout",
     "output_type": "stream",
     "text": [
      "factorial  is 120\n"
     ]
    }
   ],
   "source": [
    "# 9 write a python programme to identify the factorial number\n",
    "n=int(input(\"enter the number:\"))\n",
    "fact = 1\n",
    "\n",
    "while n>0 :\n",
    "    fact *=n \n",
    "    n -= 1\n",
    "print(f'factorial  is {fact}')\n",
    "\n"
   ]
  },
  {
   "cell_type": "code",
   "execution_count": 23,
   "id": "0fccdfad-b87f-4038-83a5-42c7ac7ae4c3",
   "metadata": {},
   "outputs": [
    {
     "name": "stdin",
     "output_type": "stream",
     "text": [
      " table number:  5\n"
     ]
    },
    {
     "name": "stdout",
     "output_type": "stream",
     "text": [
      "5 x 1 = 5\n",
      "5 x 2 = 10\n",
      "5 x 3 = 15\n",
      "5 x 4 = 20\n",
      "5 x 5 = 25\n",
      "5 x 6 = 30\n",
      "5 x 7 = 35\n",
      "5 x 8 = 40\n",
      "5 x 9 = 45\n",
      "5 x 10 = 50\n"
     ]
    }
   ],
   "source": [
    "#10 to print the miltiplication table of a number\n",
    "number=int(input(' table number: '))\n",
    "for i in range(1,11):\n",
    "    mul= number*i\n",
    "    print(f'{number} x {i} = {mul}')\n",
    " "
   ]
  },
  {
   "cell_type": "code",
   "execution_count": 16,
   "id": "be798857-fc60-489c-ba0a-331795ed13ad",
   "metadata": {},
   "outputs": [
    {
     "name": "stdin",
     "output_type": "stream",
     "text": [
      "enter the number:  37890\n"
     ]
    },
    {
     "name": "stdout",
     "output_type": "stream",
     "text": [
      " the total number of digits are 5\n"
     ]
    }
   ],
   "source": [
    "#11 write python programme to count total num of digits in a number.\n",
    "num=int(input(\"enter the number: \"))\n",
    "count=0\n",
    "while num>0:\n",
    "    num=num//10\n",
    "    count+=1\n",
    "    \n",
    "print(f' the total number of digits are {count}')"
   ]
  },
  {
   "cell_type": "code",
   "execution_count": 28,
   "id": "ab8b75ae-4442-40ff-8a89-4d132ee5599b",
   "metadata": {},
   "outputs": [
    {
     "name": "stdout",
     "output_type": "stream",
     "text": [
      "31 48 90 7 45 21 23 "
     ]
    }
   ],
   "source": [
    "#12 to print list in a reverse using loop.\n",
    "list=[23,21,45,7,90,48,31]\n",
    "#reversed_number_list= list[ ::-1]\n",
    "for i in list[::-1]:\n",
    "    print(i, end=\" \")"
   ]
  },
  {
   "cell_type": "code",
   "execution_count": 30,
   "id": "607a612b-6047-4ed6-ae05-d6027a023b8c",
   "metadata": {},
   "outputs": [
    {
     "name": "stdout",
     "output_type": "stream",
     "text": [
      "-10\n",
      "-9\n",
      "-8\n",
      "-7\n",
      "-6\n",
      "-5\n",
      "-4\n",
      "-3\n",
      "-2\n",
      "-1\n"
     ]
    }
   ],
   "source": [
    "#13 To print a python prohram to display from-10 to -1 using loop\n",
    "for i in range(-10,0):\n",
    "    print(i)"
   ]
  },
  {
   "cell_type": "code",
   "execution_count": null,
   "id": "b262158b-f5bd-4c86-8a38-c64ca49d012a",
   "metadata": {},
   "outputs": [],
   "source": []
  }
 ],
 "metadata": {
  "kernelspec": {
   "display_name": "Python 3 (ipykernel)",
   "language": "python",
   "name": "python3"
  },
  "language_info": {
   "codemirror_mode": {
    "name": "ipython",
    "version": 3
   },
   "file_extension": ".py",
   "mimetype": "text/x-python",
   "name": "python",
   "nbconvert_exporter": "python",
   "pygments_lexer": "ipython3",
   "version": "3.12.4"
  }
 },
 "nbformat": 4,
 "nbformat_minor": 5
}
