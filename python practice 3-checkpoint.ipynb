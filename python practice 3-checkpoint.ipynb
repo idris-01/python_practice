{
 "cells": [
  {
   "cell_type": "code",
   "execution_count": 21,
   "id": "efabb500-aed3-479a-868f-87f15d5259b1",
   "metadata": {},
   "outputs": [
    {
     "name": "stdout",
     "output_type": "stream",
     "text": [
      " welcome to v restaurant\n",
      " Here is our veg and non veg menu\n",
      "veg menu :['panner curry', 'cashew curry', 'methi chaman', 'kadai veg', ' gobi curry']\n",
      "non veg menu:['fish curry', 'chicken curry', 'mutton curry', 'butter chicken', ' prawns fry']\n"
     ]
    },
    {
     "name": "stdin",
     "output_type": "stream",
     "text": [
      "please tell your order: fish curry\n"
     ]
    },
    {
     "name": "stdout",
     "output_type": "stream",
     "text": [
      " we have fish curry in non veg, it will be ready please wait for it\n"
     ]
    }
   ],
   "source": [
    "#1 restaurant\n",
    "\n",
    "veg=['panner curry','cashew curry','methi chaman','kadai veg',' gobi curry']\n",
    "non_veg=['fish curry','chicken curry','mutton curry','butter chicken',' prawns fry']\n",
    "print(\" welcome to v restaurant\")\n",
    "print(\" Here is our veg and non veg menu\")\n",
    "print(f'veg menu :{veg}')\n",
    "print(f'non veg menu:{non_veg}')\n",
    "\n",
    "def restaurant(veg,non_veg,):\n",
    "    while True:\n",
    "        user=input('please tell your order:')\n",
    "        if user in veg:\n",
    "            print(f' we have {user} in veg, it will be ready please wait for it')\n",
    "            break\n",
    "        elif user in non_veg:\n",
    "            print(f' we have {user} in non veg, it will be ready please wait for it')\n",
    "            break\n",
    "        else :\n",
    "            print(f\"{user} we are not serving the current item\")\n",
    "\n",
    "restaurant(veg,non_veg)\n",
    "        \n",
    "    "
   ]
  },
  {
   "cell_type": "markdown",
   "id": "e8178025-cb27-42c6-8938-96e20feb2576",
   "metadata": {},
   "source": [
    "# 2 .write a python code to check if a num is prime or not using function."
   ]
  },
  {
   "cell_type": "code",
   "execution_count": 79,
   "id": "f1a78254-934c-49c6-9fda-2cffaa26ce84",
   "metadata": {},
   "outputs": [
    {
     "name": "stdout",
     "output_type": "stream",
     "text": [
      " 13 is prime number\n",
      " 30 is not prime number\n",
      " 10 is not prime number\n"
     ]
    }
   ],
   "source": [
    "def prime_number(num):\n",
    "    for i in range(2,num):\n",
    "        if num % i == 0:\n",
    "            print(f' {num} is not prime number')\n",
    "            break\n",
    "        else :\n",
    "            print(f' {num} is prime number')\n",
    "        break\n",
    "prime_number(13)\n",
    "prime_number(30)\n",
    "prime_number(10)"
   ]
  },
  {
   "cell_type": "markdown",
   "id": "79200c19-7636-4eed-93d3-398eeee13bdf",
   "metadata": {},
   "source": [
    "# 3. print th following numbers in pattern."
   ]
  },
  {
   "cell_type": "code",
   "execution_count": 23,
   "id": "09bea8f7-47ae-4784-8a94-608dbd6512ee",
   "metadata": {},
   "outputs": [
    {
     "name": "stdout",
     "output_type": "stream",
     "text": [
      "1 1 1 1 1 \n",
      "2 2 2 2 \n",
      "3 3 3 \n",
      "4 4 \n",
      "5 \n"
     ]
    }
   ],
   "source": [
    "for i in range(5, 0, -1): \n",
    "    print(f'{6 - i} ' * i) \n"
   ]
  },
  {
   "cell_type": "markdown",
   "id": "8e8d7f5e-cc10-4a36-a7c2-2721571ae1e7",
   "metadata": {},
   "source": [
    "# 4.write a python code to convert celsius to fahrenheit"
   ]
  },
  {
   "cell_type": "code",
   "execution_count": 49,
   "id": "60f64518-86e2-42b0-a2a6-b9d2df70a325",
   "metadata": {},
   "outputs": [
    {
     "name": "stdin",
     "output_type": "stream",
     "text": [
      "enter celsius:  43\n"
     ]
    },
    {
     "name": "stdout",
     "output_type": "stream",
     "text": [
      "158.9\n"
     ]
    }
   ],
   "source": [
    "#formula of coverting= c*9/5+32 or c*1.8 +32\n",
    "c=celsius=float(input(\"enter celsius: \"))\n",
    "def farenhiet(f):\n",
    "    farenhiet=f=(c*1.8)+32\n",
    "print(f)"
   ]
  },
  {
   "cell_type": "code",
   "execution_count": 44,
   "id": "cab7eecc-3217-4655-a50f-7bcc6e7caac6",
   "metadata": {},
   "outputs": [
    {
     "name": "stdout",
     "output_type": "stream",
     "text": [
      " The farenhiet of 34 degree celsius is 89.6\n"
     ]
    }
   ],
   "source": [
    "#c=celsius=float(input(\"enter celsius: \"))\n",
    "def farenhiet(f):\n",
    "    print(f' The farenhiet of {f} degree celsius is {(c*1.8)+32}')\n",
    "\n",
    "farenhiet(34)"
   ]
  },
  {
   "cell_type": "markdown",
   "id": "3f216809-e585-4125-8519-9cd14f48037e",
   "metadata": {},
   "source": [
    "# 5. write a function to calculate simple interest"
   ]
  },
  {
   "cell_type": "code",
   "execution_count": 64,
   "id": "a90a847d-ce1b-47a0-b3ff-0f5834b50e04",
   "metadata": {},
   "outputs": [
    {
     "name": "stdout",
     "output_type": "stream",
     "text": [
      "The simple intrest is 2500.0\n"
     ]
    }
   ],
   "source": [
    "#formula Simple Interest = Principal Amount × Interest Rate × Time\n",
    "#pr=int(input(\"Enter principle amount:\")) \n",
    "#rate= float(input(\"Enter the rate of interset:\")) \n",
    "#time = int(input(\"Enter a time period in year:\")) \n",
    "#si= am*rate*time\n",
    "def simple_intrest(am,rate,time):\n",
    "    print(f'The simple intrest is {am*rate*time}')\n",
    "\n",
    "simple_intrest(1000,0.5,5)"
   ]
  },
  {
   "cell_type": "markdown",
   "id": "f140499f-ed90-441b-bfbd-6b52563a4619",
   "metadata": {},
   "source": [
    "# 6. write a python code to convert in to int to decimal by using function"
   ]
  },
  {
   "cell_type": "code",
   "execution_count": 81,
   "id": "10c1ea15-5542-4696-9dec-d75b9f35d11c",
   "metadata": {},
   "outputs": [
    {
     "name": "stdout",
     "output_type": "stream",
     "text": [
      "34.0\n",
      "100.0\n"
     ]
    }
   ],
   "source": [
    "#int=int(input('enter a number:'))\n",
    "def integer(int):\n",
    "    con=float(int)\n",
    "    print(con)\n",
    "\n",
    "integer(34)\n",
    "integer(100)"
   ]
  },
  {
   "cell_type": "markdown",
   "id": "6a45979b-13ca-4dff-8dd7-604642a65b9b",
   "metadata": {},
   "source": [
    "# 7. write a python code to check given character is digit or not"
   ]
  },
  {
   "cell_type": "code",
   "execution_count": 98,
   "id": "c841658c-5129-443e-b71c-77227d8465ec",
   "metadata": {},
   "outputs": [
    {
     "name": "stdout",
     "output_type": "stream",
     "text": [
      " 3345 is a digit\n",
      " idris is not a digit\n"
     ]
    }
   ],
   "source": [
    "def character(char):\n",
    "    char1=str(char)\n",
    "    if char1.isdigit():\n",
    "         print(f\" {char1} is a digit\")\n",
    "    else:\n",
    "          print(f\" {char1} is not a digit\")\n",
    "\n",
    "character(3345)\n",
    "character('idris')"
   ]
  },
  {
   "cell_type": "markdown",
   "id": "793e7b3e-3f04-44b6-9bdf-985c9fa05381",
   "metadata": {},
   "source": [
    "# 8. write a python code to check number is Amstrong or not"
   ]
  },
  {
   "cell_type": "code",
   "execution_count": 11,
   "id": "741259e0-7ca5-41b3-a89f-67ddc199b0c9",
   "metadata": {},
   "outputs": [
    {
     "name": "stdout",
     "output_type": "stream",
     "text": [
      "123 is not an Armstrong number\n",
      "153 is an Armstrong number\n"
     ]
    }
   ],
   "source": [
    "def armstrong(num):\n",
    "    count = 0\n",
    "    for i in str(num):\n",
    "        count += int(i) ** 3  \n",
    "    if count == num:\n",
    "        print(f'{num} is an Armstrong number')\n",
    "    else:\n",
    "        print(f'{num} is not an Armstrong number')\n",
    "\n",
    "armstrong(123) \n",
    "armstrong(153) "
   ]
  },
  {
   "cell_type": "markdown",
   "id": "8a80e7ac-d27f-4a0d-813d-7807cfc79dc5",
   "metadata": {},
   "source": [
    "# 9. Given strings are anagram or not."
   ]
  },
  {
   "cell_type": "code",
   "execution_count": 33,
   "id": "ea29fe87-cb4a-4999-8ab3-482b2b3810c8",
   "metadata": {},
   "outputs": [
    {
     "name": "stdout",
     "output_type": "stream",
     "text": [
      " Given strings are anagram\n",
      " Given strings are not anagram\n"
     ]
    }
   ],
   "source": [
    "def anagram(str1,str2):\n",
    "    st_1=sorted(str1)\n",
    "    st_2=sorted(str2)\n",
    "    if  st_1==st_2:\n",
    "        print(f' Given strings are anagram')\n",
    "    else:\n",
    "        print(f' Given strings are not anagram')\n",
    "\n",
    "anagram('idris','sirdi')\n",
    "anagram('ski','sky')"
   ]
  },
  {
   "cell_type": "markdown",
   "id": "6b30b5c7-b350-4cfa-aafb-d254f0b28c89",
   "metadata": {},
   "source": [
    "# 10. write a python code to check non-repeating of first occurence char in string"
   ]
  },
  {
   "cell_type": "code",
   "execution_count": 7,
   "id": "20d9c61e-b9a3-4ee5-9499-5aa73343c857",
   "metadata": {},
   "outputs": [
    {
     "name": "stdin",
     "output_type": "stream",
     "text": [
      "enter character : abrar\n"
     ]
    },
    {
     "name": "stdout",
     "output_type": "stream",
     "text": [
      "b is the first non-repeating of the string\n"
     ]
    }
   ],
   "source": [
    "str=input('enter character :')\n",
    "for i in str:\n",
    "    if str.count(i)==1:\n",
    "        print(f'{i} is the first non-repeating of the string')\n",
    "        break\n",
    "else:\n",
    "    print(f'There are no first non-repeating string')"
   ]
  },
  {
   "cell_type": "markdown",
   "id": "651c3853-8416-4b76-84c7-e6cb1c9f39b8",
   "metadata": {},
   "source": [
    "# 11. write a python code to find greatest common divisior"
   ]
  },
  {
   "cell_type": "code",
   "execution_count": 75,
   "id": "8d99541c-2335-4e5b-b33a-227e6f072ea8",
   "metadata": {},
   "outputs": [
    {
     "name": "stdin",
     "output_type": "stream",
     "text": [
      "enter a number:  12\n",
      "enter a number:  4\n"
     ]
    },
    {
     "name": "stdout",
     "output_type": "stream",
     "text": [
      "the GCD is 4\n"
     ]
    }
   ],
   "source": [
    "a=int(input('enter a number: '))\n",
    "b=int(input('enter a number: '))\n",
    "def common_divisor(a, b):\n",
    "    while b != 0:\n",
    "        a, b = b, a % b  \n",
    "    print( f'the Greatest common divisor  is {a}')\n",
    "common_divisor(a,b)"
   ]
  },
  {
   "cell_type": "markdown",
   "id": "6db0acaa-f7ca-4bbb-bdce-c442ce79ca14",
   "metadata": {},
   "source": [
    "# 12. write a python program to remove duplicates from list"
   ]
  },
  {
   "cell_type": "code",
   "execution_count": 14,
   "id": "66f5db52-24ba-4546-ad78-b95b4d27575d",
   "metadata": {},
   "outputs": [
    {
     "name": "stdout",
     "output_type": "stream",
     "text": [
      "[1, 2, 3, 4, 5, 6, 7]\n"
     ]
    }
   ],
   "source": [
    "list1=[2,3,2,1,5,7,4,5,6,6,7]\n",
    "og_list=list(set(list1))\n",
    "print(og_list)"
   ]
  },
  {
   "cell_type": "markdown",
   "id": "0b875ce2-029c-4751-bd05-840d251bf62d",
   "metadata": {},
   "source": [
    "# 13.replace the string space with the given character"
   ]
  },
  {
   "cell_type": "code",
   "execution_count": 17,
   "id": "5e56df17-ff5b-4a87-a322-3637a0f6cfeb",
   "metadata": {},
   "outputs": [
    {
     "name": "stdout",
     "output_type": "stream",
     "text": [
      " I am shaik idris and i'm from  hyderabad. \n",
      "!I!am!shaik!idris!and!i'm!from!!hyderabad.!\n"
     ]
    }
   ],
   "source": [
    "str = \" I am shaik idris and i'm from  hyderabad. \"\n",
    "char='!'\n",
    "rep=str.replace(\" \",char)\n",
    "print(str)\n",
    "print(rep)"
   ]
  },
  {
   "cell_type": "markdown",
   "id": "de575970-f12a-4d03-a2ae-b0e1fc3e7975",
   "metadata": {},
   "source": [
    "# 14. write a python code to swap two number without using third variable\n"
   ]
  },
  {
   "cell_type": "code",
   "execution_count": 49,
   "id": "2ee34356-4542-44c7-bfc6-121c8a321896",
   "metadata": {},
   "outputs": [
    {
     "name": "stdout",
     "output_type": "stream",
     "text": [
      "values before swapping num1=23,num2=43\n",
      "The swapped values of num1 is 43 and num2 is 23\n",
      "values before swapping num1=12,num2=67\n",
      "The swapped values of num1 is 67 and num2 is 12\n"
     ]
    }
   ],
   "source": [
    "def swapping(num1,num2):\n",
    "    print(f'values before swapping num1={num1},num2={num2}')\n",
    "    num1,num2=num2,num1\n",
    "    print(f'The swapped values of num1 is {num1} and num2 is {num2}')\n",
    "swapping(23,43)\n",
    "swapping(12,67)"
   ]
  },
  {
   "cell_type": "markdown",
   "id": "50c1bd7e-4b51-4821-8b84-da3b931ddf11",
   "metadata": {},
   "source": [
    "# 15. write a python code to add two integers, without using any arithmetic operator"
   ]
  },
  {
   "cell_type": "code",
   "execution_count": 96,
   "id": "b304dc6c-bfe6-4b81-a9c8-249d5a4aa51a",
   "metadata": {},
   "outputs": [
    {
     "name": "stdin",
     "output_type": "stream",
     "text": [
      "Enter the value of number1 12\n",
      "Enter the value of number2 3\n"
     ]
    },
    {
     "name": "stdout",
     "output_type": "stream",
     "text": [
      "Sum of two numbers is: 15\n"
     ]
    }
   ],
   "source": [
    "a=int(input(\"Enter the value of number1\"))\n",
    "b=int(input(\"Enter the value of number2\"))\n",
    "num=sum([a,b])\n",
    "print(f\"Sum of two numbers is: {num}\")    "
   ]
  },
  {
   "cell_type": "code",
   "execution_count": null,
   "id": "4aa21f5d-576d-494e-a206-c58c7fec6ba6",
   "metadata": {},
   "outputs": [],
   "source": []
  }
 ],
 "metadata": {
  "kernelspec": {
   "display_name": "Python 3 (ipykernel)",
   "language": "python",
   "name": "python3"
  },
  "language_info": {
   "codemirror_mode": {
    "name": "ipython",
    "version": 3
   },
   "file_extension": ".py",
   "mimetype": "text/x-python",
   "name": "python",
   "nbconvert_exporter": "python",
   "pygments_lexer": "ipython3",
   "version": "3.12.4"
  }
 },
 "nbformat": 4,
 "nbformat_minor": 5
}
